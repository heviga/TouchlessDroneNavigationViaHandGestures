{
 "cells": [
  {
   "cell_type": "code",
   "outputs": [],
   "source": [
    "import csv\n",
    "import tensorflow as tf\n",
    "import numpy as np\n",
    "from sklearn.model_selection import train_test_split"
   ],
   "metadata": {
    "collapsed": false
   },
   "id": "7cfd86391f00f3d"
  },
  {
   "cell_type": "code",
   "outputs": [],
   "source": [
    "\n"
   ],
   "metadata": {
    "collapsed": false
   },
   "id": "e90dca50f36df472"
  },
  {
   "cell_type": "markdown",
   "id": "3c97739cff25a86d",
   "metadata": {
    "ExecuteTime": {
     "end_time": "2023-12-25T15:50:11.269521200Z",
     "start_time": "2023-12-25T15:50:11.257744100Z"
    },
    "collapsed": false
   },
   "source": []
  },
  {
   "cell_type": "code",
   "execution_count": 155,
   "id": "5055325c",
   "metadata": {
    "ExecuteTime": {
     "start_time": "2023-12-25T17:45:27.470046300Z"
    }
   },
   "outputs": [],
   "source": [
    "dataset = 'model/keypoint_classifier/keypoint.csv'\n",
    "model_save_path = 'model/keypoint_classifier/keypoint_classifier.hdf5'\n",
    "tflite_save_path = 'model/keypoint_classifier/keypoint_classifier.tflite'"
   ]
  },
  {
   "cell_type": "code",
   "execution_count": 156,
   "id": "0a6be027",
   "metadata": {
    "ExecuteTime": {
     "start_time": "2023-12-25T17:45:27.470046300Z"
    }
   },
   "outputs": [],
   "source": [
    "NUM_CLASSES = 8"
   ]
  },
  {
   "cell_type": "code",
   "execution_count": 157,
   "id": "128e7235",
   "metadata": {
    "ExecuteTime": {
     "start_time": "2023-12-25T17:45:27.470046300Z"
    }
   },
   "outputs": [],
   "source": [
    "X_dataset = np.loadtxt(dataset, delimiter=',', dtype='float32', usecols=list(range(1, (21 * 2) + 1)))"
   ]
  },
  {
   "cell_type": "code",
   "execution_count": 158,
   "id": "7341b262",
   "metadata": {
    "ExecuteTime": {
     "start_time": "2023-12-25T17:45:27.470046300Z"
    }
   },
   "outputs": [],
   "source": [
    "y_dataset = np.loadtxt(dataset, delimiter=',', dtype='int32', usecols=(0))"
   ]
  },
  {
   "cell_type": "code",
   "outputs": [
    {
     "ename": "NameError",
     "evalue": "name 'X_dataset' is not defined",
     "output_type": "error",
     "traceback": [
      "\u001B[1;31m---------------------------------------------------------------------------\u001B[0m",
      "\u001B[1;31mNameError\u001B[0m                                 Traceback (most recent call last)",
      "Cell \u001B[1;32mIn[1], line 1\u001B[0m\n\u001B[1;32m----> 1\u001B[0m num_examples \u001B[38;5;241m=\u001B[39m \u001B[43mX_dataset\u001B[49m\u001B[38;5;241m.\u001B[39mshape[\u001B[38;5;241m0\u001B[39m]\n\u001B[0;32m      2\u001B[0m \u001B[38;5;28mprint\u001B[39m(\u001B[38;5;124mf\u001B[39m\u001B[38;5;124m\"\u001B[39m\u001B[38;5;124mNumber of examples: \u001B[39m\u001B[38;5;132;01m{\u001B[39;00mnum_examples\u001B[38;5;132;01m}\u001B[39;00m\u001B[38;5;124m\"\u001B[39m)\n",
      "\u001B[1;31mNameError\u001B[0m: name 'X_dataset' is not defined"
     ]
    }
   ],
   "source": [
    "num_examples = X_dataset.shape[0]\n",
    "print(f\"Number of examples: {num_examples}\")"
   ],
   "metadata": {
    "collapsed": false,
    "ExecuteTime": {
     "end_time": "2023-12-26T18:30:11.958381800Z",
     "start_time": "2023-12-26T18:30:11.942383900Z"
    }
   },
   "id": "46bc251c3f50188",
   "execution_count": 1
  },
  {
   "cell_type": "code",
   "execution_count": 159,
   "id": "f7cd66b4",
   "metadata": {
    "ExecuteTime": {
     "start_time": "2023-12-25T17:45:27.477578900Z"
    }
   },
   "outputs": [],
   "source": [
    "RANDOM_SEED = 42\n",
    "X_train, X_test, y_train, y_test = train_test_split(X_dataset, y_dataset, train_size=0.75, random_state=RANDOM_SEED)"
   ]
  },
  {
   "cell_type": "code",
   "outputs": [],
   "source": [],
   "metadata": {
    "collapsed": false
   },
   "id": "2b4444c59f97ccef"
  },
  {
   "cell_type": "code",
   "execution_count": 160,
   "id": "066b11b8",
   "metadata": {
    "ExecuteTime": {
     "start_time": "2023-12-25T17:45:27.477578900Z"
    }
   },
   "outputs": [],
   "source": [
    "model = tf.keras.models.Sequential([\n",
    "    tf.keras.layers.Input((21 * 2, )),\n",
    "    tf.keras.layers.Dropout(0.2),\n",
    "    tf.keras.layers.Dense(256, activation='relu'),\n",
    "    tf.keras.layers.Dropout(0.4),\n",
    "    tf.keras.layers.Dense(128, activation='relu'),\n",
    "    tf.keras.layers.Dense(64, activation='relu'),\n",
    "    tf.keras.layers.Dense(NUM_CLASSES, activation='softmax')\n",
    "])"
   ]
  },
  {
   "cell_type": "code",
   "execution_count": 161,
   "id": "5765f4b6",
   "metadata": {
    "ExecuteTime": {
     "start_time": "2023-12-25T17:45:27.477578900Z"
    }
   },
   "outputs": [
    {
     "name": "stdout",
     "output_type": "stream",
     "text": [
      "Model: \"sequential_9\"\n",
      "_________________________________________________________________\n",
      " Layer (type)                Output Shape              Param #   \n",
      "=================================================================\n",
      " dropout_18 (Dropout)        (None, 42)                0         \n",
      "                                                                 \n",
      " dense_29 (Dense)            (None, 256)               11008     \n",
      "                                                                 \n",
      " dropout_19 (Dropout)        (None, 256)               0         \n",
      "                                                                 \n",
      " dense_30 (Dense)            (None, 128)               32896     \n",
      "                                                                 \n",
      " dense_31 (Dense)            (None, 64)                8256      \n",
      "                                                                 \n",
      " dense_32 (Dense)            (None, 8)                 520       \n",
      "                                                                 \n",
      "=================================================================\n",
      "Total params: 52,680\n",
      "Trainable params: 52,680\n",
      "Non-trainable params: 0\n",
      "_________________________________________________________________\n"
     ]
    }
   ],
   "source": [
    "model.summary()"
   ]
  },
  {
   "cell_type": "code",
   "execution_count": 162,
   "id": "90b1e1ed",
   "metadata": {
    "ExecuteTime": {
     "start_time": "2023-12-25T17:45:27.477578900Z"
    }
   },
   "outputs": [],
   "source": [
    "# Model checkpoint callback\n",
    "cp_callback = tf.keras.callbacks.ModelCheckpoint(\n",
    "    model_save_path, verbose=1, save_weights_only=False)\n",
    "# Callback for early stopping\n",
    "es_callback = tf.keras.callbacks.EarlyStopping(patience=20, verbose=1)"
   ]
  },
  {
   "cell_type": "code",
   "execution_count": 163,
   "id": "7a28d4cf",
   "metadata": {
    "ExecuteTime": {
     "start_time": "2023-12-25T17:45:27.477578900Z"
    }
   },
   "outputs": [],
   "source": [
    "# Model compilation\n",
    "model.compile(\n",
    "    optimizer='adam',\n",
    "    loss='sparse_categorical_crossentropy',\n",
    "    metrics=['accuracy']\n",
    ")"
   ]
  },
  {
   "cell_type": "code",
   "execution_count": 164,
   "id": "860de1ce",
   "metadata": {
    "ExecuteTime": {
     "start_time": "2023-12-25T17:45:27.477578900Z"
    }
   },
   "outputs": [
    {
     "name": "stdout",
     "output_type": "stream",
     "text": [
      "Epoch 1/1000\n",
      "100/118 [========================>.....] - ETA: 0s - loss: 1.0071 - accuracy: 0.6408\n",
      "Epoch 1: saving model to model/keypoint_classifier\\keypoint_classifier.hdf5\n",
      "118/118 [==============================] - 1s 3ms/step - loss: 0.9505 - accuracy: 0.6612 - val_loss: 0.2579 - val_accuracy: 0.9543\n",
      "Epoch 2/1000\n",
      " 95/118 [=======================>......] - ETA: 0s - loss: 0.5446 - accuracy: 0.8021\n",
      "Epoch 2: saving model to model/keypoint_classifier\\keypoint_classifier.hdf5\n",
      "118/118 [==============================] - 0s 2ms/step - loss: 0.5361 - accuracy: 0.8060 - val_loss: 0.1869 - val_accuracy: 0.9597\n",
      "Epoch 3/1000\n",
      " 94/118 [======================>.......] - ETA: 0s - loss: 0.4414 - accuracy: 0.8436\n",
      "Epoch 3: saving model to model/keypoint_classifier\\keypoint_classifier.hdf5\n",
      "118/118 [==============================] - 0s 2ms/step - loss: 0.4313 - accuracy: 0.8460 - val_loss: 0.1461 - val_accuracy: 0.9720\n",
      "Epoch 4/1000\n",
      "100/118 [========================>.....] - ETA: 0s - loss: 0.3467 - accuracy: 0.8805\n",
      "Epoch 4: saving model to model/keypoint_classifier\\keypoint_classifier.hdf5\n",
      "118/118 [==============================] - 0s 2ms/step - loss: 0.3456 - accuracy: 0.8808 - val_loss: 0.1294 - val_accuracy: 0.9824\n",
      "Epoch 5/1000\n",
      " 94/118 [======================>.......] - ETA: 0s - loss: 0.2785 - accuracy: 0.9066\n",
      "Epoch 5: saving model to model/keypoint_classifier\\keypoint_classifier.hdf5\n",
      "118/118 [==============================] - 0s 2ms/step - loss: 0.2780 - accuracy: 0.9078 - val_loss: 0.1041 - val_accuracy: 0.9894\n",
      "Epoch 6/1000\n",
      " 96/118 [=======================>......] - ETA: 0s - loss: 0.2429 - accuracy: 0.9229\n",
      "Epoch 6: saving model to model/keypoint_classifier\\keypoint_classifier.hdf5\n",
      "118/118 [==============================] - 0s 2ms/step - loss: 0.2427 - accuracy: 0.9216 - val_loss: 0.0854 - val_accuracy: 0.9926\n",
      "Epoch 7/1000\n",
      " 91/118 [======================>.......] - ETA: 0s - loss: 0.2132 - accuracy: 0.9299\n",
      "Epoch 7: saving model to model/keypoint_classifier\\keypoint_classifier.hdf5\n",
      "118/118 [==============================] - 0s 2ms/step - loss: 0.2105 - accuracy: 0.9310 - val_loss: 0.0647 - val_accuracy: 0.9934\n",
      "Epoch 8/1000\n",
      " 96/118 [=======================>......] - ETA: 0s - loss: 0.1845 - accuracy: 0.9413\n",
      "Epoch 8: saving model to model/keypoint_classifier\\keypoint_classifier.hdf5\n",
      "118/118 [==============================] - 0s 2ms/step - loss: 0.1817 - accuracy: 0.9420 - val_loss: 0.0631 - val_accuracy: 0.9920\n",
      "Epoch 9/1000\n",
      "100/118 [========================>.....] - ETA: 0s - loss: 0.1741 - accuracy: 0.9423\n",
      "Epoch 9: saving model to model/keypoint_classifier\\keypoint_classifier.hdf5\n",
      "118/118 [==============================] - 0s 2ms/step - loss: 0.1708 - accuracy: 0.9435 - val_loss: 0.0521 - val_accuracy: 0.9922\n",
      "Epoch 10/1000\n",
      " 98/118 [=======================>......] - ETA: 0s - loss: 0.1560 - accuracy: 0.9496\n",
      "Epoch 10: saving model to model/keypoint_classifier\\keypoint_classifier.hdf5\n",
      "118/118 [==============================] - 0s 2ms/step - loss: 0.1551 - accuracy: 0.9493 - val_loss: 0.0603 - val_accuracy: 0.9910\n",
      "Epoch 11/1000\n",
      " 88/118 [=====================>........] - ETA: 0s - loss: 0.1446 - accuracy: 0.9523\n",
      "Epoch 11: saving model to model/keypoint_classifier\\keypoint_classifier.hdf5\n",
      "118/118 [==============================] - 0s 2ms/step - loss: 0.1465 - accuracy: 0.9515 - val_loss: 0.0646 - val_accuracy: 0.9930\n",
      "Epoch 12/1000\n",
      " 93/118 [======================>.......] - ETA: 0s - loss: 0.1389 - accuracy: 0.9531\n",
      "Epoch 12: saving model to model/keypoint_classifier\\keypoint_classifier.hdf5\n",
      "118/118 [==============================] - 0s 2ms/step - loss: 0.1406 - accuracy: 0.9536 - val_loss: 0.0688 - val_accuracy: 0.9870\n",
      "Epoch 13/1000\n",
      " 97/118 [=======================>......] - ETA: 0s - loss: 0.1274 - accuracy: 0.9579\n",
      "Epoch 13: saving model to model/keypoint_classifier\\keypoint_classifier.hdf5\n",
      "118/118 [==============================] - 0s 2ms/step - loss: 0.1256 - accuracy: 0.9587 - val_loss: 0.0591 - val_accuracy: 0.9916\n",
      "Epoch 14/1000\n",
      " 97/118 [=======================>......] - ETA: 0s - loss: 0.1233 - accuracy: 0.9612\n",
      "Epoch 14: saving model to model/keypoint_classifier\\keypoint_classifier.hdf5\n",
      "118/118 [==============================] - 0s 2ms/step - loss: 0.1262 - accuracy: 0.9607 - val_loss: 0.0511 - val_accuracy: 0.9908\n",
      "Epoch 15/1000\n",
      " 97/118 [=======================>......] - ETA: 0s - loss: 0.1186 - accuracy: 0.9629\n",
      "Epoch 15: saving model to model/keypoint_classifier\\keypoint_classifier.hdf5\n",
      "118/118 [==============================] - 0s 2ms/step - loss: 0.1175 - accuracy: 0.9625 - val_loss: 0.0482 - val_accuracy: 0.9920\n",
      "Epoch 16/1000\n",
      " 94/118 [======================>.......] - ETA: 0s - loss: 0.1132 - accuracy: 0.9625\n",
      "Epoch 16: saving model to model/keypoint_classifier\\keypoint_classifier.hdf5\n",
      "118/118 [==============================] - 0s 2ms/step - loss: 0.1134 - accuracy: 0.9629 - val_loss: 0.0620 - val_accuracy: 0.9886\n",
      "Epoch 17/1000\n",
      " 96/118 [=======================>......] - ETA: 0s - loss: 0.1087 - accuracy: 0.9646\n",
      "Epoch 17: saving model to model/keypoint_classifier\\keypoint_classifier.hdf5\n",
      "118/118 [==============================] - 0s 2ms/step - loss: 0.1060 - accuracy: 0.9657 - val_loss: 0.0492 - val_accuracy: 0.9942\n",
      "Epoch 18/1000\n",
      "112/118 [===========================>..] - ETA: 0s - loss: 0.1005 - accuracy: 0.9683\n",
      "Epoch 18: saving model to model/keypoint_classifier\\keypoint_classifier.hdf5\n",
      "118/118 [==============================] - 0s 2ms/step - loss: 0.1009 - accuracy: 0.9682 - val_loss: 0.0424 - val_accuracy: 0.9922\n",
      "Epoch 19/1000\n",
      "100/118 [========================>.....] - ETA: 0s - loss: 0.1050 - accuracy: 0.9678\n",
      "Epoch 19: saving model to model/keypoint_classifier\\keypoint_classifier.hdf5\n",
      "118/118 [==============================] - 0s 2ms/step - loss: 0.1037 - accuracy: 0.9680 - val_loss: 0.0775 - val_accuracy: 0.9844\n",
      "Epoch 20/1000\n",
      " 95/118 [=======================>......] - ETA: 0s - loss: 0.0965 - accuracy: 0.9697\n",
      "Epoch 20: saving model to model/keypoint_classifier\\keypoint_classifier.hdf5\n",
      "118/118 [==============================] - 0s 2ms/step - loss: 0.0954 - accuracy: 0.9698 - val_loss: 0.0709 - val_accuracy: 0.9790\n",
      "Epoch 21/1000\n",
      " 92/118 [======================>.......] - ETA: 0s - loss: 0.0935 - accuracy: 0.9698\n",
      "Epoch 21: saving model to model/keypoint_classifier\\keypoint_classifier.hdf5\n",
      "118/118 [==============================] - 0s 2ms/step - loss: 0.0916 - accuracy: 0.9700 - val_loss: 0.0487 - val_accuracy: 0.9922\n",
      "Epoch 22/1000\n",
      " 98/118 [=======================>......] - ETA: 0s - loss: 0.0907 - accuracy: 0.9727\n",
      "Epoch 22: saving model to model/keypoint_classifier\\keypoint_classifier.hdf5\n",
      "118/118 [==============================] - 0s 2ms/step - loss: 0.0927 - accuracy: 0.9712 - val_loss: 0.0839 - val_accuracy: 0.9798\n",
      "Epoch 23/1000\n",
      "101/118 [========================>.....] - ETA: 0s - loss: 0.0908 - accuracy: 0.9722\n",
      "Epoch 23: saving model to model/keypoint_classifier\\keypoint_classifier.hdf5\n",
      "118/118 [==============================] - 0s 2ms/step - loss: 0.0872 - accuracy: 0.9729 - val_loss: 0.0499 - val_accuracy: 0.9926\n",
      "Epoch 24/1000\n",
      "100/118 [========================>.....] - ETA: 0s - loss: 0.0859 - accuracy: 0.9740\n",
      "Epoch 24: saving model to model/keypoint_classifier\\keypoint_classifier.hdf5\n",
      "118/118 [==============================] - 0s 2ms/step - loss: 0.0845 - accuracy: 0.9736 - val_loss: 0.0775 - val_accuracy: 0.9780\n",
      "Epoch 25/1000\n",
      " 94/118 [======================>.......] - ETA: 0s - loss: 0.0826 - accuracy: 0.9751\n",
      "Epoch 25: saving model to model/keypoint_classifier\\keypoint_classifier.hdf5\n",
      "118/118 [==============================] - 0s 2ms/step - loss: 0.0815 - accuracy: 0.9754 - val_loss: 0.0499 - val_accuracy: 0.9902\n",
      "Epoch 26/1000\n",
      " 96/118 [=======================>......] - ETA: 0s - loss: 0.0825 - accuracy: 0.9753\n",
      "Epoch 26: saving model to model/keypoint_classifier\\keypoint_classifier.hdf5\n",
      "118/118 [==============================] - 0s 2ms/step - loss: 0.0801 - accuracy: 0.9752 - val_loss: 0.0521 - val_accuracy: 0.9936\n",
      "Epoch 27/1000\n",
      "102/118 [========================>.....] - ETA: 0s - loss: 0.0818 - accuracy: 0.9767\n",
      "Epoch 27: saving model to model/keypoint_classifier\\keypoint_classifier.hdf5\n",
      "118/118 [==============================] - 0s 2ms/step - loss: 0.0822 - accuracy: 0.9759 - val_loss: 0.0659 - val_accuracy: 0.9910\n",
      "Epoch 28/1000\n",
      "103/118 [=========================>....] - ETA: 0s - loss: 0.0783 - accuracy: 0.9765\n",
      "Epoch 28: saving model to model/keypoint_classifier\\keypoint_classifier.hdf5\n",
      "118/118 [==============================] - 0s 2ms/step - loss: 0.0793 - accuracy: 0.9764 - val_loss: 0.0661 - val_accuracy: 0.9870\n",
      "Epoch 29/1000\n",
      " 98/118 [=======================>......] - ETA: 0s - loss: 0.0772 - accuracy: 0.9774\n",
      "Epoch 29: saving model to model/keypoint_classifier\\keypoint_classifier.hdf5\n",
      "118/118 [==============================] - 0s 2ms/step - loss: 0.0776 - accuracy: 0.9772 - val_loss: 0.0561 - val_accuracy: 0.9892\n",
      "Epoch 30/1000\n",
      "103/118 [=========================>....] - ETA: 0s - loss: 0.0761 - accuracy: 0.9763\n",
      "Epoch 30: saving model to model/keypoint_classifier\\keypoint_classifier.hdf5\n",
      "118/118 [==============================] - 0s 2ms/step - loss: 0.0752 - accuracy: 0.9764 - val_loss: 0.0333 - val_accuracy: 0.9940\n",
      "Epoch 31/1000\n",
      " 96/118 [=======================>......] - ETA: 0s - loss: 0.0752 - accuracy: 0.9774\n",
      "Epoch 31: saving model to model/keypoint_classifier\\keypoint_classifier.hdf5\n",
      "118/118 [==============================] - 0s 2ms/step - loss: 0.0747 - accuracy: 0.9778 - val_loss: 0.0528 - val_accuracy: 0.9928\n",
      "Epoch 32/1000\n",
      "102/118 [========================>.....] - ETA: 0s - loss: 0.0697 - accuracy: 0.9782\n",
      "Epoch 32: saving model to model/keypoint_classifier\\keypoint_classifier.hdf5\n",
      "118/118 [==============================] - 0s 2ms/step - loss: 0.0689 - accuracy: 0.9781 - val_loss: 0.0588 - val_accuracy: 0.9906\n",
      "Epoch 33/1000\n",
      " 98/118 [=======================>......] - ETA: 0s - loss: 0.0711 - accuracy: 0.9789\n",
      "Epoch 33: saving model to model/keypoint_classifier\\keypoint_classifier.hdf5\n",
      "118/118 [==============================] - 0s 2ms/step - loss: 0.0688 - accuracy: 0.9791 - val_loss: 0.0711 - val_accuracy: 0.9710\n",
      "Epoch 34/1000\n",
      " 97/118 [=======================>......] - ETA: 0s - loss: 0.0676 - accuracy: 0.9782\n",
      "Epoch 34: saving model to model/keypoint_classifier\\keypoint_classifier.hdf5\n",
      "118/118 [==============================] - 0s 2ms/step - loss: 0.0685 - accuracy: 0.9782 - val_loss: 0.0693 - val_accuracy: 0.9812\n",
      "Epoch 35/1000\n",
      " 95/118 [=======================>......] - ETA: 0s - loss: 0.0722 - accuracy: 0.9786\n",
      "Epoch 35: saving model to model/keypoint_classifier\\keypoint_classifier.hdf5\n",
      "118/118 [==============================] - 0s 2ms/step - loss: 0.0719 - accuracy: 0.9783 - val_loss: 0.0462 - val_accuracy: 0.9924\n",
      "Epoch 36/1000\n",
      "102/118 [========================>.....] - ETA: 0s - loss: 0.0707 - accuracy: 0.9800\n",
      "Epoch 36: saving model to model/keypoint_classifier\\keypoint_classifier.hdf5\n",
      "118/118 [==============================] - 0s 2ms/step - loss: 0.0692 - accuracy: 0.9798 - val_loss: 0.0518 - val_accuracy: 0.9922\n",
      "Epoch 37/1000\n",
      " 96/118 [=======================>......] - ETA: 0s - loss: 0.0666 - accuracy: 0.9799\n",
      "Epoch 37: saving model to model/keypoint_classifier\\keypoint_classifier.hdf5\n",
      "118/118 [==============================] - 0s 2ms/step - loss: 0.0653 - accuracy: 0.9802 - val_loss: 0.0595 - val_accuracy: 0.9884\n",
      "Epoch 38/1000\n",
      "102/118 [========================>.....] - ETA: 0s - loss: 0.0707 - accuracy: 0.9773\n",
      "Epoch 38: saving model to model/keypoint_classifier\\keypoint_classifier.hdf5\n",
      "118/118 [==============================] - 0s 2ms/step - loss: 0.0707 - accuracy: 0.9776 - val_loss: 0.0665 - val_accuracy: 0.9888\n",
      "Epoch 39/1000\n",
      "101/118 [========================>.....] - ETA: 0s - loss: 0.0643 - accuracy: 0.9807\n",
      "Epoch 39: saving model to model/keypoint_classifier\\keypoint_classifier.hdf5\n",
      "118/118 [==============================] - 0s 2ms/step - loss: 0.0629 - accuracy: 0.9810 - val_loss: 0.0319 - val_accuracy: 0.9940\n",
      "Epoch 40/1000\n",
      " 97/118 [=======================>......] - ETA: 0s - loss: 0.0686 - accuracy: 0.9777\n",
      "Epoch 40: saving model to model/keypoint_classifier\\keypoint_classifier.hdf5\n",
      "118/118 [==============================] - 0s 2ms/step - loss: 0.0676 - accuracy: 0.9782 - val_loss: 0.1000 - val_accuracy: 0.9677\n",
      "Epoch 41/1000\n",
      "104/118 [=========================>....] - ETA: 0s - loss: 0.0681 - accuracy: 0.9793\n",
      "Epoch 41: saving model to model/keypoint_classifier\\keypoint_classifier.hdf5\n",
      "118/118 [==============================] - 0s 3ms/step - loss: 0.0688 - accuracy: 0.9793 - val_loss: 0.0480 - val_accuracy: 0.9964\n",
      "Epoch 42/1000\n",
      "108/118 [==========================>...] - ETA: 0s - loss: 0.0642 - accuracy: 0.9817\n",
      "Epoch 42: saving model to model/keypoint_classifier\\keypoint_classifier.hdf5\n",
      "118/118 [==============================] - 0s 3ms/step - loss: 0.0646 - accuracy: 0.9818 - val_loss: 0.0896 - val_accuracy: 0.9810\n",
      "Epoch 43/1000\n",
      "116/118 [============================>.] - ETA: 0s - loss: 0.0639 - accuracy: 0.9797\n",
      "Epoch 43: saving model to model/keypoint_classifier\\keypoint_classifier.hdf5\n",
      "118/118 [==============================] - 0s 2ms/step - loss: 0.0636 - accuracy: 0.9798 - val_loss: 0.0680 - val_accuracy: 0.9800\n",
      "Epoch 44/1000\n",
      " 96/118 [=======================>......] - ETA: 0s - loss: 0.0659 - accuracy: 0.9791\n",
      "Epoch 44: saving model to model/keypoint_classifier\\keypoint_classifier.hdf5\n",
      "118/118 [==============================] - 0s 3ms/step - loss: 0.0651 - accuracy: 0.9796 - val_loss: 0.0446 - val_accuracy: 0.9948\n",
      "Epoch 45/1000\n",
      "107/118 [==========================>...] - ETA: 0s - loss: 0.0648 - accuracy: 0.9800\n",
      "Epoch 45: saving model to model/keypoint_classifier\\keypoint_classifier.hdf5\n",
      "118/118 [==============================] - 0s 2ms/step - loss: 0.0627 - accuracy: 0.9808 - val_loss: 0.0557 - val_accuracy: 0.9920\n",
      "Epoch 46/1000\n",
      "101/118 [========================>.....] - ETA: 0s - loss: 0.0605 - accuracy: 0.9809\n",
      "Epoch 46: saving model to model/keypoint_classifier\\keypoint_classifier.hdf5\n",
      "118/118 [==============================] - 0s 3ms/step - loss: 0.0596 - accuracy: 0.9813 - val_loss: 0.0424 - val_accuracy: 0.9934\n",
      "Epoch 47/1000\n",
      "103/118 [=========================>....] - ETA: 0s - loss: 0.0590 - accuracy: 0.9806\n",
      "Epoch 47: saving model to model/keypoint_classifier\\keypoint_classifier.hdf5\n",
      "118/118 [==============================] - 0s 2ms/step - loss: 0.0581 - accuracy: 0.9812 - val_loss: 0.0354 - val_accuracy: 0.9968\n",
      "Epoch 48/1000\n",
      " 96/118 [=======================>......] - ETA: 0s - loss: 0.0641 - accuracy: 0.9820\n",
      "Epoch 48: saving model to model/keypoint_classifier\\keypoint_classifier.hdf5\n",
      "118/118 [==============================] - 0s 2ms/step - loss: 0.0614 - accuracy: 0.9815 - val_loss: 0.0545 - val_accuracy: 0.9926\n",
      "Epoch 49/1000\n",
      " 99/118 [========================>.....] - ETA: 0s - loss: 0.0553 - accuracy: 0.9829\n",
      "Epoch 49: saving model to model/keypoint_classifier\\keypoint_classifier.hdf5\n",
      "118/118 [==============================] - 0s 2ms/step - loss: 0.0561 - accuracy: 0.9831 - val_loss: 0.0473 - val_accuracy: 0.9940\n",
      "Epoch 50/1000\n",
      "101/118 [========================>.....] - ETA: 0s - loss: 0.0603 - accuracy: 0.9805\n",
      "Epoch 50: saving model to model/keypoint_classifier\\keypoint_classifier.hdf5\n",
      "118/118 [==============================] - 0s 2ms/step - loss: 0.0584 - accuracy: 0.9809 - val_loss: 0.0560 - val_accuracy: 0.9918\n",
      "Epoch 51/1000\n",
      "104/118 [=========================>....] - ETA: 0s - loss: 0.0575 - accuracy: 0.9812\n",
      "Epoch 51: saving model to model/keypoint_classifier\\keypoint_classifier.hdf5\n",
      "118/118 [==============================] - 0s 2ms/step - loss: 0.0567 - accuracy: 0.9817 - val_loss: 0.0438 - val_accuracy: 0.9918\n",
      "Epoch 52/1000\n",
      " 99/118 [========================>.....] - ETA: 0s - loss: 0.0573 - accuracy: 0.9837\n",
      "Epoch 52: saving model to model/keypoint_classifier\\keypoint_classifier.hdf5\n",
      "118/118 [==============================] - 0s 2ms/step - loss: 0.0582 - accuracy: 0.9837 - val_loss: 0.0283 - val_accuracy: 0.9952\n",
      "Epoch 53/1000\n",
      "100/118 [========================>.....] - ETA: 0s - loss: 0.0532 - accuracy: 0.9843\n",
      "Epoch 53: saving model to model/keypoint_classifier\\keypoint_classifier.hdf5\n",
      "118/118 [==============================] - 0s 2ms/step - loss: 0.0525 - accuracy: 0.9844 - val_loss: 0.0776 - val_accuracy: 0.9732\n",
      "Epoch 54/1000\n",
      "101/118 [========================>.....] - ETA: 0s - loss: 0.0520 - accuracy: 0.9841\n",
      "Epoch 54: saving model to model/keypoint_classifier\\keypoint_classifier.hdf5\n",
      "118/118 [==============================] - 0s 2ms/step - loss: 0.0521 - accuracy: 0.9843 - val_loss: 0.0873 - val_accuracy: 0.9772\n",
      "Epoch 55/1000\n",
      " 97/118 [=======================>......] - ETA: 0s - loss: 0.0502 - accuracy: 0.9843\n",
      "Epoch 55: saving model to model/keypoint_classifier\\keypoint_classifier.hdf5\n",
      "118/118 [==============================] - 0s 2ms/step - loss: 0.0521 - accuracy: 0.9835 - val_loss: 0.0372 - val_accuracy: 0.9938\n",
      "Epoch 56/1000\n",
      "101/118 [========================>.....] - ETA: 0s - loss: 0.0535 - accuracy: 0.9836\n",
      "Epoch 56: saving model to model/keypoint_classifier\\keypoint_classifier.hdf5\n",
      "118/118 [==============================] - 0s 2ms/step - loss: 0.0533 - accuracy: 0.9838 - val_loss: 0.0542 - val_accuracy: 0.9936\n",
      "Epoch 57/1000\n",
      " 99/118 [========================>.....] - ETA: 0s - loss: 0.0504 - accuracy: 0.9853\n",
      "Epoch 57: saving model to model/keypoint_classifier\\keypoint_classifier.hdf5\n",
      "118/118 [==============================] - 0s 2ms/step - loss: 0.0513 - accuracy: 0.9847 - val_loss: 0.0360 - val_accuracy: 0.9948\n",
      "Epoch 58/1000\n",
      " 99/118 [========================>.....] - ETA: 0s - loss: 0.0508 - accuracy: 0.9848\n",
      "Epoch 58: saving model to model/keypoint_classifier\\keypoint_classifier.hdf5\n",
      "118/118 [==============================] - 0s 2ms/step - loss: 0.0508 - accuracy: 0.9853 - val_loss: 0.0420 - val_accuracy: 0.9946\n",
      "Epoch 59/1000\n",
      " 96/118 [=======================>......] - ETA: 0s - loss: 0.0501 - accuracy: 0.9849\n",
      "Epoch 59: saving model to model/keypoint_classifier\\keypoint_classifier.hdf5\n",
      "118/118 [==============================] - 0s 2ms/step - loss: 0.0480 - accuracy: 0.9855 - val_loss: 0.0571 - val_accuracy: 0.9880\n",
      "Epoch 60/1000\n",
      "103/118 [=========================>....] - ETA: 0s - loss: 0.0517 - accuracy: 0.9841\n",
      "Epoch 60: saving model to model/keypoint_classifier\\keypoint_classifier.hdf5\n",
      "118/118 [==============================] - 0s 2ms/step - loss: 0.0524 - accuracy: 0.9838 - val_loss: 0.1387 - val_accuracy: 0.9431\n",
      "Epoch 61/1000\n",
      " 99/118 [========================>.....] - ETA: 0s - loss: 0.0494 - accuracy: 0.9848\n",
      "Epoch 61: saving model to model/keypoint_classifier\\keypoint_classifier.hdf5\n",
      "118/118 [==============================] - 0s 2ms/step - loss: 0.0497 - accuracy: 0.9850 - val_loss: 0.0797 - val_accuracy: 0.9667\n",
      "Epoch 62/1000\n",
      " 98/118 [=======================>......] - ETA: 0s - loss: 0.0569 - accuracy: 0.9815\n",
      "Epoch 62: saving model to model/keypoint_classifier\\keypoint_classifier.hdf5\n",
      "118/118 [==============================] - 0s 2ms/step - loss: 0.0566 - accuracy: 0.9817 - val_loss: 0.0401 - val_accuracy: 0.9908\n",
      "Epoch 63/1000\n",
      " 95/118 [=======================>......] - ETA: 0s - loss: 0.0519 - accuracy: 0.9842\n",
      "Epoch 63: saving model to model/keypoint_classifier\\keypoint_classifier.hdf5\n",
      "118/118 [==============================] - 0s 2ms/step - loss: 0.0510 - accuracy: 0.9843 - val_loss: 0.0493 - val_accuracy: 0.9860\n",
      "Epoch 64/1000\n",
      "100/118 [========================>.....] - ETA: 0s - loss: 0.0501 - accuracy: 0.9848\n",
      "Epoch 64: saving model to model/keypoint_classifier\\keypoint_classifier.hdf5\n",
      "118/118 [==============================] - 0s 2ms/step - loss: 0.0497 - accuracy: 0.9848 - val_loss: 0.0494 - val_accuracy: 0.9932\n",
      "Epoch 65/1000\n",
      " 99/118 [========================>.....] - ETA: 0s - loss: 0.0386 - accuracy: 0.9878\n",
      "Epoch 65: saving model to model/keypoint_classifier\\keypoint_classifier.hdf5\n",
      "118/118 [==============================] - 0s 2ms/step - loss: 0.0410 - accuracy: 0.9870 - val_loss: 0.1146 - val_accuracy: 0.9575\n",
      "Epoch 66/1000\n",
      "101/118 [========================>.....] - ETA: 0s - loss: 0.0462 - accuracy: 0.9855\n",
      "Epoch 66: saving model to model/keypoint_classifier\\keypoint_classifier.hdf5\n",
      "118/118 [==============================] - 0s 2ms/step - loss: 0.0471 - accuracy: 0.9854 - val_loss: 0.0790 - val_accuracy: 0.9824\n",
      "Epoch 67/1000\n",
      " 96/118 [=======================>......] - ETA: 0s - loss: 0.0475 - accuracy: 0.9858\n",
      "Epoch 67: saving model to model/keypoint_classifier\\keypoint_classifier.hdf5\n",
      "118/118 [==============================] - 0s 2ms/step - loss: 0.0495 - accuracy: 0.9853 - val_loss: 0.0893 - val_accuracy: 0.9667\n",
      "Epoch 68/1000\n",
      "100/118 [========================>.....] - ETA: 0s - loss: 0.0445 - accuracy: 0.9853\n",
      "Epoch 68: saving model to model/keypoint_classifier\\keypoint_classifier.hdf5\n",
      "118/118 [==============================] - 0s 2ms/step - loss: 0.0460 - accuracy: 0.9850 - val_loss: 0.0472 - val_accuracy: 0.9918\n",
      "Epoch 69/1000\n",
      " 99/118 [========================>.....] - ETA: 0s - loss: 0.0480 - accuracy: 0.9845\n",
      "Epoch 69: saving model to model/keypoint_classifier\\keypoint_classifier.hdf5\n",
      "118/118 [==============================] - 0s 2ms/step - loss: 0.0469 - accuracy: 0.9853 - val_loss: 0.0336 - val_accuracy: 0.9948\n",
      "Epoch 70/1000\n",
      " 97/118 [=======================>......] - ETA: 0s - loss: 0.0508 - accuracy: 0.9850\n",
      "Epoch 70: saving model to model/keypoint_classifier\\keypoint_classifier.hdf5\n",
      "118/118 [==============================] - 0s 2ms/step - loss: 0.0496 - accuracy: 0.9853 - val_loss: 0.0505 - val_accuracy: 0.9900\n",
      "Epoch 71/1000\n",
      " 98/118 [=======================>......] - ETA: 0s - loss: 0.0422 - accuracy: 0.9866\n",
      "Epoch 71: saving model to model/keypoint_classifier\\keypoint_classifier.hdf5\n",
      "118/118 [==============================] - 0s 2ms/step - loss: 0.0437 - accuracy: 0.9862 - val_loss: 0.0360 - val_accuracy: 0.9942\n",
      "Epoch 72/1000\n",
      " 99/118 [========================>.....] - ETA: 0s - loss: 0.0465 - accuracy: 0.9863\n",
      "Epoch 72: saving model to model/keypoint_classifier\\keypoint_classifier.hdf5\n",
      "118/118 [==============================] - 0s 2ms/step - loss: 0.0467 - accuracy: 0.9857 - val_loss: 0.0310 - val_accuracy: 0.9948\n",
      "Epoch 72: early stopping\n"
     ]
    },
    {
     "data": {
      "text/plain": [
       "<keras.callbacks.History at 0x1c5304c69a0>"
      ]
     },
     "execution_count": 164,
     "metadata": {},
     "output_type": "execute_result"
    }
   ],
   "source": [
    "model.fit(\n",
    "    X_train,\n",
    "    y_train,\n",
    "    epochs=1000,\n",
    "    batch_size=128,\n",
    "    validation_data=(X_test, y_test),\n",
    "    callbacks=[cp_callback, es_callback]\n",
    ")"
   ]
  },
  {
   "cell_type": "code",
   "execution_count": 165,
   "id": "eb5a6c5c",
   "metadata": {
    "ExecuteTime": {
     "start_time": "2023-12-25T17:45:27.477578900Z"
    }
   },
   "outputs": [
    {
     "name": "stdout",
     "output_type": "stream",
     "text": [
      "40/40 [==============================] - 0s 867us/step - loss: 0.0310 - accuracy: 0.9948\n"
     ]
    }
   ],
   "source": [
    "# Model evaluation\n",
    "val_loss, val_acc = model.evaluate(X_test, y_test, batch_size=128)"
   ]
  },
  {
   "cell_type": "code",
   "execution_count": 166,
   "id": "1e837aa8",
   "metadata": {
    "ExecuteTime": {
     "start_time": "2023-12-25T17:45:27.477578900Z"
    }
   },
   "outputs": [],
   "source": [
    "# Loading the saved model\n",
    "model = tf.keras.models.load_model(model_save_path)"
   ]
  },
  {
   "cell_type": "code",
   "execution_count": 167,
   "id": "04a7c77c",
   "metadata": {
    "ExecuteTime": {
     "start_time": "2023-12-25T17:45:27.477578900Z"
    }
   },
   "outputs": [
    {
     "name": "stdout",
     "output_type": "stream",
     "text": [
      "1/1 [==============================] - 0s 35ms/step\n",
      "[9.8827821e-01 3.8053276e-04 2.5281057e-04 8.3202478e-03 2.4623589e-03\n",
      " 2.9419121e-04 2.7451749e-06 8.9231089e-06]\n",
      "0\n"
     ]
    }
   ],
   "source": [
    "# Inference test\n",
    "predict_result = model.predict(np.array([X_test[0]]))\n",
    "print(np.squeeze(predict_result))\n",
    "print(np.argmax(np.squeeze(predict_result)))"
   ]
  },
  {
   "cell_type": "code",
   "execution_count": 168,
   "id": "c01292d4",
   "metadata": {
    "ExecuteTime": {
     "start_time": "2023-12-25T17:45:27.477578900Z"
    }
   },
   "outputs": [
    {
     "name": "stdout",
     "output_type": "stream",
     "text": [
      "157/157 [==============================] - 0s 535us/step\n"
     ]
    },
    {
     "data": {
      "image/png": "[encoded data removed]",
      "text/plain": [
       "<Figure size 700x600 with 2 Axes>"
      ]
     },
     "metadata": {},
     "output_type": "display_data"
    },
    {
     "name": "stdout",
     "output_type": "stream",
     "text": [
      "Classification Report\n",
      "              precision    recall  f1-score   support\n",
      "\n",
      "           0       0.99      1.00      0.99       622\n",
      "           1       1.00      0.99      1.00       508\n",
      "           2       1.00      0.98      0.99       556\n",
      "           3       1.00      0.99      1.00       759\n",
      "           4       1.00      1.00      1.00       621\n",
      "           5       1.00      1.00      1.00       673\n",
      "           6       0.98      1.00      0.99       666\n",
      "           7       1.00      1.00      1.00       603\n",
      "\n",
      "    accuracy                           0.99      5008\n",
      "   macro avg       1.00      0.99      0.99      5008\n",
      "weighted avg       0.99      0.99      0.99      5008\n"
     ]
    }
   ],
   "source": [
    "import pandas as pd\n",
    "import seaborn as sns\n",
    "import matplotlib.pyplot as plt\n",
    "from sklearn.metrics import confusion_matrix, classification_report\n",
    "\n",
    "def print_confusion_matrix(y_true, y_pred, report=True):\n",
    "    labels = sorted(list(set(y_true)))\n",
    "    cmx_data = confusion_matrix(y_true, y_pred, labels=labels)\n",
    "    \n",
    "    df_cmx = pd.DataFrame(cmx_data, index=labels, columns=labels)\n",
    " \n",
    "    fig, ax = plt.subplots(figsize=(7, 6))\n",
    "    sns.heatmap(df_cmx, annot=True, fmt='g' ,square=False)\n",
    "    ax.set_ylim(len(set(y_true)), 0)\n",
    "    plt.show()\n",
    "    \n",
    "    if report:\n",
    "        print('Classification Report')\n",
    "        print(classification_report(y_test, y_pred))\n",
    "\n",
    "Y_pred = model.predict(X_test)\n",
    "y_pred = np.argmax(Y_pred, axis=1)\n",
    "\n",
    "print_confusion_matrix(y_test, y_pred)"
   ]
  },
  {
   "cell_type": "code",
   "execution_count": null,
   "id": "8156f2d5-aace-400f-af1f-48fea2c67b29",
   "metadata": {},
   "outputs": [],
   "source": []
  },
  {
   "cell_type": "code",
   "execution_count": 169,
   "id": "d3fa2dbe",
   "metadata": {
    "ExecuteTime": {
     "start_time": "2023-12-25T17:45:27.477578900Z"
    }
   },
   "outputs": [],
   "source": [
    "\n",
    "# Save as a model dedicated to inference\n",
    "model.save(model_save_path, include_optimizer=False)"
   ]
  },
  {
   "cell_type": "code",
   "execution_count": 170,
   "id": "db71aebd",
   "metadata": {
    "ExecuteTime": {
     "start_time": "2023-12-25T17:45:27.477578900Z"
    }
   },
   "outputs": [
    {
     "name": "stdout",
     "output_type": "stream",
     "text": [
      "INFO:tensorflow:Assets written to: C:\\Users\\ivadu\\AppData\\Local\\Temp\\tmp4umgiu42\\assets\n"
     ]
    },
    {
     "name": "stderr",
     "output_type": "stream",
     "text": [
      "INFO:tensorflow:Assets written to: C:\\Users\\ivadu\\AppData\\Local\\Temp\\tmp4umgiu42\\assets\n"
     ]
    },
    {
     "data": {
      "text/plain": [
       "58248"
      ]
     },
     "execution_count": 170,
     "metadata": {},
     "output_type": "execute_result"
    }
   ],
   "source": [
    "# Transform model (quantization)\n",
    "\n",
    "converter = tf.lite.TFLiteConverter.from_keras_model(model)\n",
    "converter.optimizations = [tf.lite.Optimize.DEFAULT]\n",
    "tflite_quantized_model = converter.convert()\n",
    "\n",
    "open(tflite_save_path, 'wb').write(tflite_quantized_model)"
   ]
  },
  {
   "cell_type": "code",
   "execution_count": null,
   "id": "3f9cbcee",
   "metadata": {
    "ExecuteTime": {
     "start_time": "2023-12-25T17:45:27.477578900Z"
    }
   },
   "outputs": [],
   "source": []
  }
 ],
 "metadata": {
  "kernelspec": {
   "display_name": "Python 3 (ipykernel)",
   "language": "python",
   "name": "python3"
  },
  "language_info": {
   "codemirror_mode": {
    "name": "ipython",
    "version": 3
   },
   "file_extension": ".py",
   "mimetype": "text/x-python",
   "name": "python",
   "nbconvert_exporter": "python",
   "pygments_lexer": "ipython3",
   "version": "3.9.0"
  }
 },
 "nbformat": 4,
 "nbformat_minor": 5
}
